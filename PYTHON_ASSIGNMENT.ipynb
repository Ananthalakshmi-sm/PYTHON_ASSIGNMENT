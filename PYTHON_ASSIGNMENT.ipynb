{
  "nbformat": 4,
  "nbformat_minor": 0,
  "metadata": {
    "colab": {
      "provenance": [],
      "authorship_tag": "ABX9TyOFCruR3aUAHXvrxBKNulRl",
      "include_colab_link": true
    },
    "kernelspec": {
      "name": "python3",
      "display_name": "Python 3"
    },
    "language_info": {
      "name": "python"
    }
  },
  "cells": [
    {
      "cell_type": "markdown",
      "metadata": {
        "id": "view-in-github",
        "colab_type": "text"
      },
      "source": [
        "<a href=\"https://colab.research.google.com/github/Ananthalakshmi-sm/PYTHON_ASSIGNMENT/blob/main/PYTHON_ASSIGNMENT.ipynb\" target=\"_parent\"><img src=\"https://colab.research.google.com/assets/colab-badge.svg\" alt=\"Open In Colab\"/></a>"
      ]
    },
    {
      "cell_type": "markdown",
      "source": [
        "##Topic 1 — Functions (def) & Lambda Functions\n",
        "Part A — Basic Function Concepts (Single Return Values)\n"
      ],
      "metadata": {
        "id": "iZcdiQIrYVRZ"
      }
    },
    {
      "cell_type": "code",
      "source": [
        "#1.     Write a function wish(name) that returns \"Hello, Good Morning <name>!\".\n",
        "\n",
        "def wish(name):\n",
        "  return (f\"Hello, Good Morning {name}!\")"
      ],
      "metadata": {
        "id": "yX2PFj0DYaNe"
      },
      "execution_count": null,
      "outputs": []
    },
    {
      "cell_type": "code",
      "source": [
        "wish(name=\"junnu\")"
      ],
      "metadata": {
        "colab": {
          "base_uri": "https://localhost:8080/",
          "height": 36
        },
        "id": "XFNK_TgeY4Y1",
        "outputId": "e575e88f-e90d-4465-f40a-f36d319b53c3"
      },
      "execution_count": null,
      "outputs": [
        {
          "output_type": "execute_result",
          "data": {
            "text/plain": [
              "'Hello, Good Morning junnu!'"
            ],
            "application/vnd.google.colaboratory.intrinsic+json": {
              "type": "string"
            }
          },
          "metadata": {},
          "execution_count": 2
        }
      ]
    },
    {
      "cell_type": "code",
      "source": [
        "#2.\tWrite a function cube(n) that returns the cube of a number (n³).\n",
        "\n",
        "def cube(n):\n",
        "    return n**3"
      ],
      "metadata": {
        "id": "eRIrAckaZAh3"
      },
      "execution_count": null,
      "outputs": []
    },
    {
      "cell_type": "code",
      "source": [
        "cube(3)"
      ],
      "metadata": {
        "colab": {
          "base_uri": "https://localhost:8080/"
        },
        "id": "A-ZHnhNVbgUQ",
        "outputId": "fd590aaf-a37a-4805-9f3a-a54abcbf15d0"
      },
      "execution_count": null,
      "outputs": [
        {
          "output_type": "execute_result",
          "data": {
            "text/plain": [
              "27"
            ]
          },
          "metadata": {},
          "execution_count": 4
        }
      ]
    },
    {
      "cell_type": "code",
      "source": [
        "#3.\tWrite a function check_even(n) that returns True if the number is even, else False.\n",
        "\n",
        "def check_even(n):\n",
        "  if n%2==0:\n",
        "    return True\n",
        "  else:\n",
        "    return False"
      ],
      "metadata": {
        "id": "dnzMrkR4biaG"
      },
      "execution_count": null,
      "outputs": []
    },
    {
      "cell_type": "code",
      "source": [
        "check_even(4)"
      ],
      "metadata": {
        "colab": {
          "base_uri": "https://localhost:8080/"
        },
        "id": "lFVO1pfNgNy6",
        "outputId": "83a588f6-a26c-4200-caf8-79b15ce0a506"
      },
      "execution_count": null,
      "outputs": [
        {
          "output_type": "execute_result",
          "data": {
            "text/plain": [
              "True"
            ]
          },
          "metadata": {},
          "execution_count": 6
        }
      ]
    },
    {
      "cell_type": "code",
      "source": [
        "check_even(7)"
      ],
      "metadata": {
        "colab": {
          "base_uri": "https://localhost:8080/"
        },
        "id": "N0Jj-JxCgRNy",
        "outputId": "9765b845-153a-443a-b9c3-3d14d399a5de"
      },
      "execution_count": null,
      "outputs": [
        {
          "output_type": "execute_result",
          "data": {
            "text/plain": [
              "False"
            ]
          },
          "metadata": {},
          "execution_count": 7
        }
      ]
    },
    {
      "cell_type": "code",
      "source": [
        "#4.\tWrite a function greatest_of_two(a, b) that returns the larger of two numbers.\n",
        "\n",
        "def greatest_of_two(a,b):\n",
        "  if a>b:\n",
        "    return a\n",
        "  else:\n",
        "    return b"
      ],
      "metadata": {
        "id": "8M06JilzgT98"
      },
      "execution_count": null,
      "outputs": []
    },
    {
      "cell_type": "code",
      "source": [
        "greatest_of_two(3,8)"
      ],
      "metadata": {
        "colab": {
          "base_uri": "https://localhost:8080/"
        },
        "id": "qzCv-lGdg936",
        "outputId": "8ce5b422-18b7-4d22-ed58-8709e0fcc759"
      },
      "execution_count": null,
      "outputs": [
        {
          "output_type": "execute_result",
          "data": {
            "text/plain": [
              "8"
            ]
          },
          "metadata": {},
          "execution_count": 9
        }
      ]
    },
    {
      "cell_type": "code",
      "source": [
        "greatest_of_two(90,88)"
      ],
      "metadata": {
        "colab": {
          "base_uri": "https://localhost:8080/"
        },
        "id": "6kboNxTkhB99",
        "outputId": "cda9a17b-27b0-4cc9-eb4a-198600544441"
      },
      "execution_count": null,
      "outputs": [
        {
          "output_type": "execute_result",
          "data": {
            "text/plain": [
              "90"
            ]
          },
          "metadata": {},
          "execution_count": 10
        }
      ]
    },
    {
      "cell_type": "code",
      "source": [
        "#5.\tWrite a function count_letters(s) that returns the number of characters in a string.\n",
        "\n",
        "def count_letters(s):\n",
        "  return len(s)"
      ],
      "metadata": {
        "id": "oo-ZQQyVhIw6"
      },
      "execution_count": null,
      "outputs": []
    },
    {
      "cell_type": "code",
      "source": [
        "count_letters(\"KSR datavision\")"
      ],
      "metadata": {
        "colab": {
          "base_uri": "https://localhost:8080/"
        },
        "id": "SpSHgH4-hnkr",
        "outputId": "a7295083-a7fd-4262-ad25-c1e79bcb983b"
      },
      "execution_count": null,
      "outputs": [
        {
          "output_type": "execute_result",
          "data": {
            "text/plain": [
              "14"
            ]
          },
          "metadata": {},
          "execution_count": 12
        }
      ]
    },
    {
      "cell_type": "code",
      "source": [
        "#6.\tWrite a function power(value, exp=2) that returns the number raised to the power exp. (Default exponent = 2)\n",
        "\n",
        "def power(value,exp=2):\n",
        "  return pow(value,exp)"
      ],
      "metadata": {
        "id": "CLBj_zs_htE7"
      },
      "execution_count": null,
      "outputs": []
    },
    {
      "cell_type": "code",
      "source": [
        "power(3)"
      ],
      "metadata": {
        "colab": {
          "base_uri": "https://localhost:8080/"
        },
        "id": "cLZV5fU-iGi9",
        "outputId": "5a3ebc71-7d0d-4977-89a2-6ff7586f6f86"
      },
      "execution_count": null,
      "outputs": [
        {
          "output_type": "execute_result",
          "data": {
            "text/plain": [
              "9"
            ]
          },
          "metadata": {},
          "execution_count": 14
        }
      ]
    },
    {
      "cell_type": "code",
      "source": [
        "power(9)"
      ],
      "metadata": {
        "colab": {
          "base_uri": "https://localhost:8080/"
        },
        "id": "R-HC7Al3iKwv",
        "outputId": "99d7fbed-5e7d-46cb-cd29-a606f928a94f"
      },
      "execution_count": null,
      "outputs": [
        {
          "output_type": "execute_result",
          "data": {
            "text/plain": [
              "81"
            ]
          },
          "metadata": {},
          "execution_count": 15
        }
      ]
    },
    {
      "cell_type": "markdown",
      "source": [
        "Part B — Returning Multiple Values"
      ],
      "metadata": {
        "id": "zW5RIhZriaaA"
      }
    },
    {
      "cell_type": "code",
      "source": [
        "#7.\tWrite a function swap(a, b) that returns the two values swapped as a tuple.\n",
        "\n",
        "def swap(a,b):\n",
        "  return(b,a)"
      ],
      "metadata": {
        "id": "hCRcBslYie5X"
      },
      "execution_count": null,
      "outputs": []
    },
    {
      "cell_type": "code",
      "source": [
        "swap(8,9)"
      ],
      "metadata": {
        "colab": {
          "base_uri": "https://localhost:8080/"
        },
        "id": "-FjZXLDDjC02",
        "outputId": "a66946a3-a286-4b56-d00a-8d294f54cb66"
      },
      "execution_count": null,
      "outputs": [
        {
          "output_type": "execute_result",
          "data": {
            "text/plain": [
              "(9, 8)"
            ]
          },
          "metadata": {},
          "execution_count": 17
        }
      ]
    },
    {
      "cell_type": "code",
      "source": [
        "#8.\tWrite a function add_sub(a, b) that returns both sum and difference of two numbers.\n",
        "\n",
        "def add_sub(a,b):\n",
        "  return(a+b,a-b)"
      ],
      "metadata": {
        "id": "bEdgEg0FjFcw"
      },
      "execution_count": null,
      "outputs": []
    },
    {
      "cell_type": "code",
      "source": [
        "add_sub(12,12)"
      ],
      "metadata": {
        "colab": {
          "base_uri": "https://localhost:8080/"
        },
        "id": "HQzmNC6KjT3Y",
        "outputId": "88199141-e29f-45ea-b1b0-1c93264d9646"
      },
      "execution_count": null,
      "outputs": [
        {
          "output_type": "execute_result",
          "data": {
            "text/plain": [
              "(24, 0)"
            ]
          },
          "metadata": {},
          "execution_count": 19
        }
      ]
    },
    {
      "cell_type": "code",
      "source": [
        "add_sub(8,9)"
      ],
      "metadata": {
        "colab": {
          "base_uri": "https://localhost:8080/"
        },
        "id": "6vW6QHy0jWwM",
        "outputId": "30fe2fcb-09b4-495f-8794-d16b71459b4c"
      },
      "execution_count": null,
      "outputs": [
        {
          "output_type": "execute_result",
          "data": {
            "text/plain": [
              "(17, -1)"
            ]
          },
          "metadata": {},
          "execution_count": 20
        }
      ]
    },
    {
      "cell_type": "code",
      "source": [
        "#9.\tWrite a function circle_stats(radius) that returns the area and circumference as a tuple.\n",
        "\n",
        "def circle_stats(radius):\n",
        "  area=3.14*radius**2\n",
        "  circumference=2*3.14*radius\n",
        "  return(area,circumference)\n"
      ],
      "metadata": {
        "id": "t7sOoS0FjauD"
      },
      "execution_count": null,
      "outputs": []
    },
    {
      "cell_type": "code",
      "source": [
        "circle_stats(5)"
      ],
      "metadata": {
        "colab": {
          "base_uri": "https://localhost:8080/"
        },
        "id": "kOY2b7GGj671",
        "outputId": "178b7bd4-6a15-4ae6-b052-81f53e80eb3e"
      },
      "execution_count": null,
      "outputs": [
        {
          "output_type": "execute_result",
          "data": {
            "text/plain": [
              "(78.5, 31.400000000000002)"
            ]
          },
          "metadata": {},
          "execution_count": 22
        }
      ]
    },
    {
      "cell_type": "code",
      "source": [
        "#10.\tWrite a function min_max_sum(nums) that returns the minimum, maximum, and sum of a list.\n",
        "\n",
        "def min_max_sum(nums):\n",
        "  return ((max(nums),min(nums),sum(nums)))"
      ],
      "metadata": {
        "id": "2sr9wAmnj_HT"
      },
      "execution_count": null,
      "outputs": []
    },
    {
      "cell_type": "code",
      "source": [
        "min_max_sum([1,2,36,44,90,7,65])"
      ],
      "metadata": {
        "colab": {
          "base_uri": "https://localhost:8080/"
        },
        "id": "rWIiN_q0lq-N",
        "outputId": "641d70ee-f345-4723-ecfc-53f3e6022287"
      },
      "execution_count": null,
      "outputs": [
        {
          "output_type": "execute_result",
          "data": {
            "text/plain": [
              "(90, 1, 245)"
            ]
          },
          "metadata": {},
          "execution_count": 24
        }
      ]
    },
    {
      "cell_type": "markdown",
      "source": [
        " Part C — Working with Strings & Formatting"
      ],
      "metadata": {
        "id": "sjgAIMQ1mMck"
      }
    },
    {
      "cell_type": "code",
      "source": [
        "#11.\tWrite a function concat(*parts) that joins multiple strings together with spaces.\n",
        "\n",
        "def concat(*parts):\n",
        "  return \" \".join(parts)"
      ],
      "metadata": {
        "id": "bZyQT-EzmXH5"
      },
      "execution_count": null,
      "outputs": []
    },
    {
      "cell_type": "code",
      "source": [
        "result = concat(\"Python\", \"is\", \"fun\")\n",
        "print(result)\n"
      ],
      "metadata": {
        "colab": {
          "base_uri": "https://localhost:8080/"
        },
        "id": "cPOS4BLnm5mj",
        "outputId": "26e91d25-b07f-40cf-87e2-c54e69b2a9b0"
      },
      "execution_count": null,
      "outputs": [
        {
          "output_type": "stream",
          "name": "stdout",
          "text": [
            "Python is fun\n"
          ]
        }
      ]
    },
    {
      "cell_type": "code",
      "source": [
        "#12.    Write a function format_name(first, last=\"\") that returns \"Last, First\" if last name is provided, else \"First\".\n",
        "\n",
        "def format_name(first, last=\"\"):\n",
        "  if last:\n",
        "    return f\"{last}, {first}\"\n",
        "  else:\n",
        "    return first"
      ],
      "metadata": {
        "id": "ZrY84b2OnA8z"
      },
      "execution_count": null,
      "outputs": []
    },
    {
      "cell_type": "code",
      "source": [
        "print(format_name(\"Meghana\", \"Reddy\"))\n",
        "print(format_name(\"Meghana\"))\n"
      ],
      "metadata": {
        "colab": {
          "base_uri": "https://localhost:8080/"
        },
        "id": "rzdkaQquoMOt",
        "outputId": "96b3e531-5f3a-4739-b86e-95cf08c87dcb"
      },
      "execution_count": null,
      "outputs": [
        {
          "output_type": "stream",
          "name": "stdout",
          "text": [
            "Reddy, Meghana\n",
            "Meghana\n"
          ]
        }
      ]
    },
    {
      "cell_type": "code",
      "source": [
        "#13.    Write a function greet_user(first, last) that returns a message like \"Welcome, First Last!\".\n",
        "\n",
        "def greet_user(first,last):\n",
        "  return f\"Welcome, {first} {last}!\""
      ],
      "metadata": {
        "id": "NtFZNoC7ooMf"
      },
      "execution_count": null,
      "outputs": []
    },
    {
      "cell_type": "code",
      "source": [
        "print(greet_user('Meghana','Reddy'))"
      ],
      "metadata": {
        "colab": {
          "base_uri": "https://localhost:8080/"
        },
        "id": "dak2XGOCo7R7",
        "outputId": "2d271cf6-0744-4521-8d15-24cce76787e6"
      },
      "execution_count": null,
      "outputs": [
        {
          "output_type": "stream",
          "name": "stdout",
          "text": [
            "Welcome, Meghana Reddy!\n"
          ]
        }
      ]
    },
    {
      "cell_type": "markdown",
      "source": [
        "Part D — Lambda Functions"
      ],
      "metadata": {
        "id": "u3cYTv2lqBdj"
      }
    },
    {
      "cell_type": "code",
      "source": [
        "#14.\tWrite a lambda function to add two numbers.\n",
        "\n",
        "abc=lambda x,y:x+y"
      ],
      "metadata": {
        "id": "czlem_2EqCVy"
      },
      "execution_count": null,
      "outputs": []
    },
    {
      "cell_type": "code",
      "source": [
        "abc(x=12,y=11)"
      ],
      "metadata": {
        "colab": {
          "base_uri": "https://localhost:8080/"
        },
        "id": "gUkLkEqtqQ06",
        "outputId": "4f19d0e8-e4fe-4244-eb1b-d188fe544bd7"
      },
      "execution_count": null,
      "outputs": [
        {
          "output_type": "execute_result",
          "data": {
            "text/plain": [
              "23"
            ]
          },
          "metadata": {},
          "execution_count": 32
        }
      ]
    },
    {
      "cell_type": "code",
      "source": [
        "#15.    Write a lambda function mult = lambda *args: that returns the product of all arguments.\n",
        "\n",
        "from functools import reduce\n",
        "mult = lambda *args: reduce(lambda x, y: x * y, args)\n"
      ],
      "metadata": {
        "id": "7LJpMAZQqan7"
      },
      "execution_count": null,
      "outputs": []
    },
    {
      "cell_type": "code",
      "source": [
        "mult(2, 3)\n"
      ],
      "metadata": {
        "colab": {
          "base_uri": "https://localhost:8080/"
        },
        "id": "l4qkrYqvsDjj",
        "outputId": "b47effa3-6e64-427b-9cb5-95e18a9b5875"
      },
      "execution_count": null,
      "outputs": [
        {
          "output_type": "execute_result",
          "data": {
            "text/plain": [
              "6"
            ]
          },
          "metadata": {},
          "execution_count": 48
        }
      ]
    },
    {
      "cell_type": "code",
      "source": [
        "#16.    Write a one-line lambda expression to flatten a list of pairs like [(a,b), (c,d)] into [a, b, c, d].\n",
        "\n",
        "flatten = lambda pairs: [x for pair in pairs for x in pair]\n"
      ],
      "metadata": {
        "id": "PYitEVHOsoGh"
      },
      "execution_count": null,
      "outputs": []
    },
    {
      "cell_type": "code",
      "source": [
        "print(flatten([('a', 'b'), ('c', 'd')]))\n"
      ],
      "metadata": {
        "colab": {
          "base_uri": "https://localhost:8080/"
        },
        "id": "_cMXIdZ1uLtM",
        "outputId": "683090c4-727c-4ce5-e7d9-5889e6941dc7"
      },
      "execution_count": null,
      "outputs": [
        {
          "output_type": "stream",
          "name": "stdout",
          "text": [
            "['a', 'b', 'c', 'd']\n"
          ]
        }
      ]
    },
    {
      "cell_type": "markdown",
      "source": [
        "Part E — Recursive, Higher-Order & Inner Functions"
      ],
      "metadata": {
        "id": "gPTjyvpFunzk"
      }
    },
    {
      "cell_type": "code",
      "source": [
        "#17.\tWrite a recursive function factorial(n) that returns the factorial of a number.\n",
        "\n",
        "def factorial(n):\n",
        "    if n == 0 or n == 1:\n",
        "        return 1\n",
        "    else:\n",
        "        return n * factorial(n - 1)\n"
      ],
      "metadata": {
        "id": "e1JvX12jupLK"
      },
      "execution_count": null,
      "outputs": []
    },
    {
      "cell_type": "code",
      "source": [
        "print(factorial(5))"
      ],
      "metadata": {
        "colab": {
          "base_uri": "https://localhost:8080/"
        },
        "id": "6U4kFxVMu75x",
        "outputId": "fd20e2f6-657a-4a41-c7a2-eeee7de930ad"
      },
      "execution_count": null,
      "outputs": [
        {
          "output_type": "stream",
          "name": "stdout",
          "text": [
            "120\n"
          ]
        }
      ]
    },
    {
      "cell_type": "code",
      "source": [
        "#18.\tWrite a function apply_twice(func, x) that applies a function twice → func(func(x)).\n",
        "\n",
        "def apply_twice(func, x):\n",
        "    return func(func(x))\n"
      ],
      "metadata": {
        "id": "tMD5l31PvBJB"
      },
      "execution_count": null,
      "outputs": []
    },
    {
      "cell_type": "code",
      "source": [
        "def add_3(n):\n",
        "    return n + 3\n",
        "\n",
        "print(apply_twice(add_3, 7))\n"
      ],
      "metadata": {
        "colab": {
          "base_uri": "https://localhost:8080/"
        },
        "id": "vVIEP_dzvKgh",
        "outputId": "c21e9dfc-98bf-4096-e32d-d95261cf082b"
      },
      "execution_count": null,
      "outputs": [
        {
          "output_type": "stream",
          "name": "stdout",
          "text": [
            "13\n"
          ]
        }
      ]
    },
    {
      "cell_type": "code",
      "source": [
        "#19.\tWrite a function inner_demo() that defines and calls an inner function inside it.\n",
        "\n",
        "def inner_demo():\n",
        "    def inner_function():\n",
        "        print(\"Hello from the inner function!\")\n",
        "\n",
        "    # Calling the inner function\n",
        "    inner_function()\n"
      ],
      "metadata": {
        "id": "YLVJW97pvWaR"
      },
      "execution_count": null,
      "outputs": []
    },
    {
      "cell_type": "code",
      "source": [
        "inner_demo()\n"
      ],
      "metadata": {
        "colab": {
          "base_uri": "https://localhost:8080/"
        },
        "id": "mxyWJIHuxbRE",
        "outputId": "097232b5-4dcd-4b27-a2e1-fd1626068dcb"
      },
      "execution_count": null,
      "outputs": [
        {
          "output_type": "stream",
          "name": "stdout",
          "text": [
            "Hello from the inner function!\n"
          ]
        }
      ]
    },
    {
      "cell_type": "code",
      "source": [
        "#20.\tWrite a function call_function(func, value) that takes another function as a parameter and applies it.\n",
        "\n",
        "def call_function(func, value):\n",
        "    return func(value)"
      ],
      "metadata": {
        "id": "UDlX2dKp48aL"
      },
      "execution_count": null,
      "outputs": []
    },
    {
      "cell_type": "code",
      "source": [
        "call_function(lambda x: x * 2, 5)"
      ],
      "metadata": {
        "colab": {
          "base_uri": "https://localhost:8080/"
        },
        "id": "9AWF3cb95tbV",
        "outputId": "2233dda9-b44e-4ce4-e323-b87f3b3ad5b6"
      },
      "execution_count": null,
      "outputs": [
        {
          "output_type": "execute_result",
          "data": {
            "text/plain": [
              "10"
            ]
          },
          "metadata": {},
          "execution_count": 51
        }
      ]
    },
    {
      "cell_type": "code",
      "source": [
        "#21.\tWrite a function square_list(nums) that defines a helper function square(x) inside it and returns a list of squares.\n",
        "\n",
        "def square_list(nums):\n",
        "    # Helper function defined inside\n",
        "    def square(x):\n",
        "        return x * x\n",
        "    return [square(n) for n in nums]"
      ],
      "metadata": {
        "id": "JmFQD1IU5xkB"
      },
      "execution_count": null,
      "outputs": []
    },
    {
      "cell_type": "code",
      "source": [
        "square_list([2,4,6,8,9])"
      ],
      "metadata": {
        "colab": {
          "base_uri": "https://localhost:8080/"
        },
        "id": "32qFIj276fFt",
        "outputId": "feb13874-9278-47bb-e655-c8420fb5ed75"
      },
      "execution_count": null,
      "outputs": [
        {
          "output_type": "execute_result",
          "data": {
            "text/plain": [
              "[4, 16, 36, 64, 81]"
            ]
          },
          "metadata": {},
          "execution_count": 60
        }
      ]
    },
    {
      "cell_type": "markdown",
      "source": [
        "Part F — Intermediate Function Concepts"
      ],
      "metadata": {
        "id": "LCRX7tMB7FkE"
      }
    },
    {
      "cell_type": "code",
      "source": [
        "#22.\tWrite a function make_multiplier(m) that returns a new function which multiplies input values by m.\n",
        "def make_multiplier(m):\n",
        "    # Inner function that multiplies its input by m\n",
        "    def multiplier(x):\n",
        "        return x * m\n",
        "    return multiplier"
      ],
      "metadata": {
        "id": "TS5wjp_G7Gd9"
      },
      "execution_count": null,
      "outputs": []
    },
    {
      "cell_type": "code",
      "source": [
        "double = make_multiplier(2)   # creates a function that doubles input\n",
        "triple = make_multiplier(3)"
      ],
      "metadata": {
        "id": "PF9EUK0P73Rp"
      },
      "execution_count": null,
      "outputs": []
    },
    {
      "cell_type": "code",
      "source": [
        "print(double(5))\n",
        "print(triple(4))"
      ],
      "metadata": {
        "colab": {
          "base_uri": "https://localhost:8080/"
        },
        "id": "f6qKQ5vW8IfU",
        "outputId": "00b34f0f-91cf-4797-9ac8-103dac9c0a39"
      },
      "execution_count": null,
      "outputs": [
        {
          "output_type": "stream",
          "name": "stdout",
          "text": [
            "10\n",
            "12\n"
          ]
        }
      ]
    },
    {
      "cell_type": "code",
      "source": [
        "#23.\tWrite a function filter_primes(nums) that filters prime numbers using a helper is_prime() function.\n",
        "\n",
        "def filter_primes(nums):\n",
        "    def is_prime(n):\n",
        "        if n < 2:\n",
        "            return False\n",
        "        for i in range(2, int(n**0.5) + 1):\n",
        "            if n % i == 0:\n",
        "                return False\n",
        "        return True\n",
        "    return [n for n in nums if is_prime(n)]"
      ],
      "metadata": {
        "id": "10JjaTeP8O3d"
      },
      "execution_count": null,
      "outputs": []
    },
    {
      "cell_type": "code",
      "source": [
        "numbers = [1, 2, 3, 4, 5, 6, 7, 8, 9, 10]\n",
        "print(filter_primes(numbers))"
      ],
      "metadata": {
        "colab": {
          "base_uri": "https://localhost:8080/"
        },
        "id": "BpYipke29CZJ",
        "outputId": "24b994c4-60ae-4d65-fc57-2efa8b185491"
      },
      "execution_count": null,
      "outputs": [
        {
          "output_type": "stream",
          "name": "stdout",
          "text": [
            "[2, 3, 5, 7]\n"
          ]
        }
      ]
    },
    {
      "cell_type": "code",
      "source": [
        "#24.\tWrite a function convert_to_fahrenheit(celsius_list) using map and a lambda.\n",
        "#Formula: F = C * 9/5 + 32\n",
        "\n",
        "def convert_to_fahrenheit(celsius_list):\n",
        "    return list(map(lambda c: c * 9/5 + 32, celsius_list))\n",
        "\n"
      ],
      "metadata": {
        "id": "0PT0_zIu9HGt"
      },
      "execution_count": null,
      "outputs": []
    },
    {
      "cell_type": "code",
      "source": [
        "celsius = [0, 20, 37, 100]\n",
        "print(convert_to_fahrenheit(celsius))"
      ],
      "metadata": {
        "colab": {
          "base_uri": "https://localhost:8080/"
        },
        "id": "mEVNs4Wa9Yv4",
        "outputId": "6d496589-d68e-4343-f4a2-9bd3cc22c5dd"
      },
      "execution_count": null,
      "outputs": [
        {
          "output_type": "stream",
          "name": "stdout",
          "text": [
            "[32.0, 68.0, 98.6, 212.0]\n"
          ]
        }
      ]
    },
    {
      "cell_type": "code",
      "source": [
        "#25.\tWrite a function apply_if(func, predicate, iterable) that applies a function only to items that pass a condition.\n",
        "\n",
        "def apply_if(func, predicate, iterable):\n",
        "   return [func(x) if predicate(x) else x for x in iterable]"
      ],
      "metadata": {
        "id": "LUFa4iRA9cf8"
      },
      "execution_count": null,
      "outputs": []
    },
    {
      "cell_type": "code",
      "source": [
        "def double(x):\n",
        "    return x * 2"
      ],
      "metadata": {
        "id": "hBr9Og7F91xM"
      },
      "execution_count": null,
      "outputs": []
    },
    {
      "cell_type": "code",
      "source": [
        "def is_even(x):\n",
        "    return x % 2 == 0"
      ],
      "metadata": {
        "id": "JwC05NrM-FGS"
      },
      "execution_count": null,
      "outputs": []
    },
    {
      "cell_type": "code",
      "source": [
        "numbers = [1, 2, 3, 4, 5]\n",
        "print(apply_if(double, is_even, numbers))"
      ],
      "metadata": {
        "colab": {
          "base_uri": "https://localhost:8080/"
        },
        "id": "h-UnB-7r-It2",
        "outputId": "220c67b7-e836-4d57-9b36-2113768eb8c8"
      },
      "execution_count": null,
      "outputs": [
        {
          "output_type": "stream",
          "name": "stdout",
          "text": [
            "[1, 4, 3, 8, 5]\n"
          ]
        }
      ]
    },
    {
      "cell_type": "code",
      "source": [
        "#26.\tWrite a function curry(func) that converts a two-argument function into a curried version → can be called as f(a)(b).\n",
        "\n",
        "def curry(func):\n",
        "    return lambda a: lambda b: func(a, b)\n",
        "def add(x, y):\n",
        "    return x + y\n",
        "\n",
        "curried_add = curry(add)\n",
        "\n",
        "print(curried_add(5)(10))  # Output: 15\n",
        "\n",
        "# Another example: multiplication\n",
        "def multiply(x, y):\n",
        "    return x * y\n",
        "\n",
        "curried_multiply = curry(multiply)\n",
        "print(curried_multiply(3)(4))\n"
      ],
      "metadata": {
        "colab": {
          "base_uri": "https://localhost:8080/"
        },
        "id": "SwZNXNl5-LSz",
        "outputId": "af89ad05-4a1f-4ab0-e8ff-053b79bd45ec"
      },
      "execution_count": null,
      "outputs": [
        {
          "output_type": "stream",
          "name": "stdout",
          "text": [
            "15\n",
            "12\n"
          ]
        }
      ]
    },
    {
      "cell_type": "code",
      "source": [
        "#27.\tWrite a function variadic_sum(*args, **kwargs) that sums all positional arguments and multiplies by a scale factor if provided.\n",
        "\n",
        "def variadic_sum(*args, **kwargs):\n",
        "    total = sum(args)\n",
        "    scale = kwargs.get('scale', 1)\n",
        "    return total * scale\n",
        "print(variadic_sum(1, 2, 3))\n",
        "print(variadic_sum(1, 2, 3, scale=2))\n",
        "print(variadic_sum(5, 10, 15, scale=0.5))\n"
      ],
      "metadata": {
        "colab": {
          "base_uri": "https://localhost:8080/"
        },
        "id": "JrBu92H_-nX1",
        "outputId": "fda2e81b-2a5c-43c5-ad17-c0cab96fd60b"
      },
      "execution_count": null,
      "outputs": [
        {
          "output_type": "stream",
          "name": "stdout",
          "text": [
            "6\n",
            "12\n",
            "15.0\n"
          ]
        }
      ]
    },
    {
      "cell_type": "code",
      "source": [
        "#28.\tWrite a function sort_by_length(strings) that sorts a list of strings by their length using a lambda as key.\n",
        "\n",
        "def sort_by_length(strings):\n",
        "    return sorted(strings, key=lambda s: len(s))\n",
        "words = [\"apple\", \"fig\", \"banana\", \"kiwi\", \"cherry\"]\n",
        "print(sort_by_length(words))\n"
      ],
      "metadata": {
        "colab": {
          "base_uri": "https://localhost:8080/"
        },
        "id": "i6zP0XqI_Hbh",
        "outputId": "362664ba-3bd4-458e-cba1-c672320bed69"
      },
      "execution_count": null,
      "outputs": [
        {
          "output_type": "stream",
          "name": "stdout",
          "text": [
            "['fig', 'kiwi', 'apple', 'banana', 'cherry']\n"
          ]
        }
      ]
    },
    {
      "cell_type": "markdown",
      "source": [
        "##Topic 2 — List Comprehensions\n",
        "\n",
        "Part A — Basic Comprehension Practice"
      ],
      "metadata": {
        "id": "KkIFiHSZ_ivd"
      }
    },
    {
      "cell_type": "code",
      "source": [
        "#29.\tCreate [1,2,3,4] → list of their squares.\n",
        "numbers = [1, 2, 3, 4]\n",
        "squares = [x**2 for x in numbers]\n",
        "\n",
        "print(squares)\n"
      ],
      "metadata": {
        "colab": {
          "base_uri": "https://localhost:8080/"
        },
        "id": "7UXU6Gjc_qlM",
        "outputId": "6975ae7b-9f21-4e68-f62a-187130af85b4"
      },
      "execution_count": null,
      "outputs": [
        {
          "output_type": "stream",
          "name": "stdout",
          "text": [
            "[1, 4, 9, 16]\n"
          ]
        }
      ]
    },
    {
      "cell_type": "code",
      "source": [
        "#30.\tCreate ['a','b','c'] → list of their uppercase versions.\n",
        "letters = ['a', 'b', 'c']\n",
        "uppercase_letters = [l.upper() for l in letters]\n",
        "\n",
        "print(uppercase_letters)\n"
      ],
      "metadata": {
        "colab": {
          "base_uri": "https://localhost:8080/"
        },
        "id": "13FC5cDrATBX",
        "outputId": "b55ed112-8738-429b-c633-d623eb47ddf7"
      },
      "execution_count": null,
      "outputs": [
        {
          "output_type": "stream",
          "name": "stdout",
          "text": [
            "['A', 'B', 'C']\n"
          ]
        }
      ]
    },
    {
      "cell_type": "code",
      "source": [
        "#31.\tMake a list of even numbers from 1 to 20.\n",
        "\n",
        "even_numbers = [x for x in range(1, 21) if x % 2 == 0]\n",
        "print(even_numbers)\n"
      ],
      "metadata": {
        "colab": {
          "base_uri": "https://localhost:8080/"
        },
        "id": "nd2vUdFOAbEr",
        "outputId": "af914e70-1e01-49bc-a3c7-f98029189af1"
      },
      "execution_count": null,
      "outputs": [
        {
          "output_type": "stream",
          "name": "stdout",
          "text": [
            "[2, 4, 6, 8, 10, 12, 14, 16, 18, 20]\n"
          ]
        }
      ]
    },
    {
      "cell_type": "code",
      "source": [
        "#32.\tGiven words = ['apple', 'bee', 'cat'], create [(word, len(word)) for word in words].\n",
        "\n",
        "words = ['apple', 'bee', 'cat']\n",
        "word_lengths = [(word, len(word)) for word in words]\n",
        "print(word_lengths)\n"
      ],
      "metadata": {
        "colab": {
          "base_uri": "https://localhost:8080/"
        },
        "id": "QFD4IBwpAzNu",
        "outputId": "160e0515-89ff-44a3-c745-96a1e1a85eb6"
      },
      "execution_count": null,
      "outputs": [
        {
          "output_type": "stream",
          "name": "stdout",
          "text": [
            "[('apple', 5), ('bee', 3), ('cat', 3)]\n"
          ]
        }
      ]
    },
    {
      "cell_type": "code",
      "source": [
        "#33.\tFlatten [[1,2], [3,4], [5]] → [1,2,3,4,5].\n",
        "\n",
        "nested_list = [[1, 2], [3, 4], [5]]\n",
        "flattened = [item for sublist in nested_list for item in sublist]\n",
        "\n",
        "print(flattened)\n"
      ],
      "metadata": {
        "colab": {
          "base_uri": "https://localhost:8080/"
        },
        "id": "fgLYKi6hA_0U",
        "outputId": "a3e74f48-73ff-4994-ee26-85035f1b5506"
      },
      "execution_count": null,
      "outputs": [
        {
          "output_type": "stream",
          "name": "stdout",
          "text": [
            "[1, 2, 3, 4, 5]\n"
          ]
        }
      ]
    },
    {
      "cell_type": "code",
      "source": [
        "#34.\tFrom nums = [0,1,2,3], create a list of 'even' or 'odd' strings.\n",
        "\n",
        "nums = [0, 1, 2, 3]\n",
        "even_odd = ['even' if x % 2 == 0 else 'odd' for x in nums]\n",
        "print(even_odd)\n"
      ],
      "metadata": {
        "colab": {
          "base_uri": "https://localhost:8080/"
        },
        "id": "_ex2onRrBLh2",
        "outputId": "da35ba40-5d3f-498a-c92c-477c2ec1353b"
      },
      "execution_count": null,
      "outputs": [
        {
          "output_type": "stream",
          "name": "stdout",
          "text": [
            "['even', 'odd', 'even', 'odd']\n"
          ]
        }
      ]
    },
    {
      "cell_type": "code",
      "source": [
        "#35.\tUsing a comprehension, make a list of booleans showing if numbers in a list are prime (use helper function).\n",
        "\n",
        "def is_prime(n):\n",
        "    if n < 2:\n",
        "        return False\n",
        "    for i in range(2, int(n**0.5) + 1):\n",
        "        if n % i == 0:\n",
        "            return False\n",
        "    return True\n",
        "\n",
        "nums = [0, 1, 2, 3, 4, 5, 6, 7]\n",
        "\n",
        "prime_flags = [is_prime(x) for x in nums]\n",
        "\n",
        "print(prime_flags)\n"
      ],
      "metadata": {
        "colab": {
          "base_uri": "https://localhost:8080/"
        },
        "id": "gBJopPtsBXpM",
        "outputId": "09c758be-3840-4000-ce98-06064d914646"
      },
      "execution_count": null,
      "outputs": [
        {
          "output_type": "stream",
          "name": "stdout",
          "text": [
            "[False, False, True, True, False, True, False, True]\n"
          ]
        }
      ]
    },
    {
      "cell_type": "code",
      "source": [
        "#36.\tFrom range(1,50), select numbers divisible by both 2 and 3.\n",
        "\n",
        "numbers = [x for x in range(1, 50) if x % 2 == 0 and x % 3 == 0]\n",
        "print(numbers)\n"
      ],
      "metadata": {
        "colab": {
          "base_uri": "https://localhost:8080/"
        },
        "id": "G6bFMqn6Bs4Z",
        "outputId": "7dde2536-d6a6-40b0-ddf9-50a111258189"
      },
      "execution_count": null,
      "outputs": [
        {
          "output_type": "stream",
          "name": "stdout",
          "text": [
            "[6, 12, 18, 24, 30, 36, 42, 48]\n"
          ]
        }
      ]
    },
    {
      "cell_type": "code",
      "source": [
        "#37.\tCreate coordinate pairs (i, j) where i and j go from 0 to 2.\n",
        "\n",
        "coordinates = [(i, j) for i in range(3) for j in range(3)]\n",
        "print(coordinates)\n"
      ],
      "metadata": {
        "colab": {
          "base_uri": "https://localhost:8080/"
        },
        "id": "JaPZR5sKB6Cm",
        "outputId": "d0276b08-4f02-4b2c-9ca8-aadd161dab42"
      },
      "execution_count": null,
      "outputs": [
        {
          "output_type": "stream",
          "name": "stdout",
          "text": [
            "[(0, 0), (0, 1), (0, 2), (1, 0), (1, 1), (1, 2), (2, 0), (2, 1), (2, 2)]\n"
          ]
        }
      ]
    },
    {
      "cell_type": "code",
      "source": [
        "#38.\tFrom ['a b','c d e'], produce a flat list of all words.\n",
        "\n",
        "strings = ['a b', 'c d e']\n",
        "words = [word for s in strings for word in s.split()]\n",
        "\n",
        "print(words)\n"
      ],
      "metadata": {
        "colab": {
          "base_uri": "https://localhost:8080/"
        },
        "id": "uhaokerfCOJ6",
        "outputId": "8b1db4e5-3ac8-4d87-f6f7-3aa95d8cdb4c"
      },
      "execution_count": null,
      "outputs": [
        {
          "output_type": "stream",
          "name": "stdout",
          "text": [
            "['a', 'b', 'c', 'd', 'e']\n"
          ]
        }
      ]
    },
    {
      "cell_type": "markdown",
      "source": [
        "Part B — Using Lists of Dictionaries"
      ],
      "metadata": {
        "id": "we7nY29YCcAV"
      }
    },
    {
      "cell_type": "code",
      "source": [
        "#39.\tGiven students = [{'name':'A','score':80}, {'name':'B','score':60}], Create a list of names of students with score ≥ 75.\n",
        "\n",
        "students = [{'name':'A','score':80}, {'name':'B','score':60}]\n",
        "high_scorers = [student['name'] for student in students if student['score'] >= 75]\n",
        "\n",
        "print(high_scorers)\n"
      ],
      "metadata": {
        "colab": {
          "base_uri": "https://localhost:8080/"
        },
        "id": "O_A-zwfgCfMU",
        "outputId": "2fe87844-9d52-4fe9-b7ff-9e7ec7e3aa9c"
      },
      "execution_count": null,
      "outputs": [
        {
          "output_type": "stream",
          "name": "stdout",
          "text": [
            "['A']\n"
          ]
        }
      ]
    },
    {
      "cell_type": "code",
      "source": [
        "#40.\tBuild a list of dictionaries like {'n': n, 'square': n*n} for numbers 1 to 10.\n",
        "\n",
        "numbers = range(1, 11)\n",
        "squares_list = [{'n': n, 'square': n*n} for n in numbers]\n",
        "\n",
        "print(squares_list)\n"
      ],
      "metadata": {
        "colab": {
          "base_uri": "https://localhost:8080/"
        },
        "id": "GloXGVyRCwWf",
        "outputId": "780fe869-a510-41c4-91ba-b62eca3441e3"
      },
      "execution_count": null,
      "outputs": [
        {
          "output_type": "stream",
          "name": "stdout",
          "text": [
            "[{'n': 1, 'square': 1}, {'n': 2, 'square': 4}, {'n': 3, 'square': 9}, {'n': 4, 'square': 16}, {'n': 5, 'square': 25}, {'n': 6, 'square': 36}, {'n': 7, 'square': 49}, {'n': 8, 'square': 64}, {'n': 9, 'square': 81}, {'n': 10, 'square': 100}]\n"
          ]
        }
      ]
    },
    {
      "cell_type": "code",
      "source": [
        "#41.\tMerge two lists element-wise into tuples, but include only pairs where both elements are truthy.\n",
        "\n",
        "list1 = [1, 0, 3, None, 5]\n",
        "list2 = [2, 4, 0, 6, 7]\n",
        "\n",
        "merged = [(a, b) for a, b in zip(list1, list2) if a and b]\n",
        "\n",
        "print(merged)"
      ],
      "metadata": {
        "colab": {
          "base_uri": "https://localhost:8080/"
        },
        "id": "GhzpBYWEC9LJ",
        "outputId": "7e41c1dc-1193-4461-90b9-13be660136d8"
      },
      "execution_count": null,
      "outputs": [
        {
          "output_type": "stream",
          "name": "stdout",
          "text": [
            "[(1, 2), (5, 7)]\n"
          ]
        }
      ]
    },
    {
      "cell_type": "code",
      "source": [
        "#42.\tCreate a comprehension to transpose a matrix (swap rows ↔ columns).\n",
        "\n",
        "matrix = [\n",
        "    [1, 2, 3],\n",
        "    [4, 5, 6],\n",
        "    [7, 8, 9]\n",
        "]\n",
        "\n",
        "transposed = [[row[i] for row in matrix] for i in range(len(matrix[0]))]\n",
        "\n",
        "print(transposed)\n"
      ],
      "metadata": {
        "colab": {
          "base_uri": "https://localhost:8080/"
        },
        "id": "jPiGuGVWDJPe",
        "outputId": "77aa2195-7a9b-4f59-a008-5baf42e3c876"
      },
      "execution_count": null,
      "outputs": [
        {
          "output_type": "stream",
          "name": "stdout",
          "text": [
            "[[1, 4, 7], [2, 5, 8], [3, 6, 9]]\n"
          ]
        }
      ]
    },
    {
      "cell_type": "markdown",
      "source": [
        "Part C — Advanced Comprehensions"
      ],
      "metadata": {
        "id": "pJtS4U4GDp19"
      }
    },
    {
      "cell_type": "code",
      "source": [
        "#43.\tFlatten a 3-level nested list [[[1,2],[3]],[[4]]] into a single flat list.\n",
        "\n",
        "nested = [[[1, 2], [3]], [[4]]]\n",
        "\n",
        "flat = [item for sublist1 in nested for sublist2 in sublist1 for item in sublist2]\n",
        "\n",
        "print(flat)"
      ],
      "metadata": {
        "colab": {
          "base_uri": "https://localhost:8080/"
        },
        "id": "VNMxClAKDqaS",
        "outputId": "dc37be76-39cd-4779-d052-43fe4a657c06"
      },
      "execution_count": null,
      "outputs": [
        {
          "output_type": "stream",
          "name": "stdout",
          "text": [
            "[1, 2, 3, 4]\n"
          ]
        }
      ]
    },
    {
      "cell_type": "code",
      "source": [
        "#44.\tWrite a comprehension that keeps only unique items from a list while preserving order.\n",
        "\n",
        "items = [1, 2, 2, 3, 1, 4, 3]\n",
        "\n",
        "seen = set()\n",
        "unique_items = [x for x in items if not (x in seen or seen.add(x))]\n",
        "\n",
        "print(unique_items)"
      ],
      "metadata": {
        "colab": {
          "base_uri": "https://localhost:8080/"
        },
        "id": "e5EuABI7DyNg",
        "outputId": "0ec8a961-cd9f-4a89-bfa7-a828fdc48c02"
      },
      "execution_count": null,
      "outputs": [
        {
          "output_type": "stream",
          "name": "stdout",
          "text": [
            "[1, 2, 3, 4]\n"
          ]
        }
      ]
    },
    {
      "cell_type": "code",
      "source": [
        "#45.\tFind all indices (positions) where a given number appears in a list.\n",
        "\n",
        "nums = [1, 2, 3, 2, 4, 2, 5]\n",
        "target = 2\n",
        "\n",
        "indices = [i for i, x in enumerate(nums) if x == target]\n",
        "\n",
        "print(indices)"
      ],
      "metadata": {
        "colab": {
          "base_uri": "https://localhost:8080/"
        },
        "id": "kTwu42OqD6zA",
        "outputId": "8c509bae-f5fc-4ecb-9094-ae11aaa85cd0"
      },
      "execution_count": null,
      "outputs": [
        {
          "output_type": "stream",
          "name": "stdout",
          "text": [
            "[1, 3, 5]\n"
          ]
        }
      ]
    },
    {
      "cell_type": "code",
      "source": [
        "#46.\tGenerate all palindromic numbers (as strings) between 1 and 999.\n",
        "palindromes = [str(n) for n in range(1, 1000) if str(n) == str(n)[::-1]]\n",
        "\n",
        "print(palindromes)"
      ],
      "metadata": {
        "colab": {
          "base_uri": "https://localhost:8080/"
        },
        "id": "QZ5nWZ4WEGc_",
        "outputId": "5b130c39-5503-43be-b828-09bc77ba7e4b"
      },
      "execution_count": null,
      "outputs": [
        {
          "output_type": "stream",
          "name": "stdout",
          "text": [
            "['1', '2', '3', '4', '5', '6', '7', '8', '9', '11', '22', '33', '44', '55', '66', '77', '88', '99', '101', '111', '121', '131', '141', '151', '161', '171', '181', '191', '202', '212', '222', '232', '242', '252', '262', '272', '282', '292', '303', '313', '323', '333', '343', '353', '363', '373', '383', '393', '404', '414', '424', '434', '444', '454', '464', '474', '484', '494', '505', '515', '525', '535', '545', '555', '565', '575', '585', '595', '606', '616', '626', '636', '646', '656', '666', '676', '686', '696', '707', '717', '727', '737', '747', '757', '767', '777', '787', '797', '808', '818', '828', '838', '848', '858', '868', '878', '888', '898', '909', '919', '929', '939', '949', '959', '969', '979', '989', '999']\n"
          ]
        }
      ]
    },
    {
      "cell_type": "code",
      "source": [
        "#47.\tConvert a dictionary like {'a':[1,2], 'b':[3]} into a list of (key, value) pairs.\n",
        "\n",
        "d = {'a': [1, 2], 'b': [3]}\n",
        "\n",
        "pairs = [(k, v) for k, values in d.items() for v in values]\n",
        "\n",
        "print(pairs)"
      ],
      "metadata": {
        "colab": {
          "base_uri": "https://localhost:8080/"
        },
        "id": "XvYWmOHQEXWk",
        "outputId": "218899ee-1294-4b02-d083-d21024cf9b7e"
      },
      "execution_count": null,
      "outputs": [
        {
          "output_type": "stream",
          "name": "stdout",
          "text": [
            "[('a', 1), ('a', 2), ('b', 3)]\n"
          ]
        }
      ]
    },
    {
      "cell_type": "code",
      "source": [
        "#48.\tCreate a list of prime pairs (p, q) where both are primes under 100 and p + q is also prime.\n",
        "\n",
        "def is_prime(n):\n",
        "    if n < 2:\n",
        "        return False\n",
        "    for i in range(2, int(n**0.5) + 1):\n",
        "        if n % i == 0:\n",
        "            return False\n",
        "    return True\n",
        "\n",
        "primes = [x for x in range(2, 100) if is_prime(x)]\n",
        "\n",
        "prime_pairs = [(p, q) for p in primes for q in primes if is_prime(p + q)]\n",
        "\n",
        "print(prime_pairs)\n"
      ],
      "metadata": {
        "colab": {
          "base_uri": "https://localhost:8080/"
        },
        "id": "N2QaxnesEfLm",
        "outputId": "318fdccb-605c-4425-bde0-e64c79f37bb7"
      },
      "execution_count": null,
      "outputs": [
        {
          "output_type": "stream",
          "name": "stdout",
          "text": [
            "[(2, 3), (2, 5), (2, 11), (2, 17), (2, 29), (2, 41), (2, 59), (2, 71), (3, 2), (5, 2), (11, 2), (17, 2), (29, 2), (41, 2), (59, 2), (71, 2)]\n"
          ]
        }
      ]
    },
    {
      "cell_type": "code",
      "source": [
        "#49.\tCreate a lower-triangular matrix (n×n) with 1s below and on the diagonal, 0s above.\n",
        "\n",
        "n = 4\n",
        "\n",
        "lower_triangular = [[1 if j <= i else 0 for j in range(n)] for i in range(n)]\n",
        "\n",
        "for row in lower_triangular:\n",
        "    print(row)"
      ],
      "metadata": {
        "colab": {
          "base_uri": "https://localhost:8080/"
        },
        "id": "7k_PqNJ9ErNP",
        "outputId": "d03db8c1-0f25-451f-f71c-99714f905654"
      },
      "execution_count": null,
      "outputs": [
        {
          "output_type": "stream",
          "name": "stdout",
          "text": [
            "[1, 0, 0, 0]\n",
            "[1, 1, 0, 0]\n",
            "[1, 1, 1, 0]\n",
            "[1, 1, 1, 1]\n"
          ]
        }
      ]
    },
    {
      "cell_type": "code",
      "source": [
        "#50.\tGenerate all possible sequences of length 4 from 'abcd' with no repeated letters.\n",
        "\n",
        "from itertools import permutations\n",
        "\n",
        "chars = 'abcd'\n",
        "\n",
        "sequences = [''.join(p) for p in permutations(chars, 4)]\n",
        "\n",
        "print(sequences)\n"
      ],
      "metadata": {
        "colab": {
          "base_uri": "https://localhost:8080/"
        },
        "id": "ogRRiLJzE5uc",
        "outputId": "8112cf3f-5bab-4a2e-8af7-dacbe904bab5"
      },
      "execution_count": null,
      "outputs": [
        {
          "output_type": "stream",
          "name": "stdout",
          "text": [
            "['abcd', 'abdc', 'acbd', 'acdb', 'adbc', 'adcb', 'bacd', 'badc', 'bcad', 'bcda', 'bdac', 'bdca', 'cabd', 'cadb', 'cbad', 'cbda', 'cdab', 'cdba', 'dabc', 'dacb', 'dbac', 'dbca', 'dcab', 'dcba']\n"
          ]
        }
      ]
    },
    {
      "cell_type": "code",
      "source": [],
      "metadata": {
        "id": "TM5mTNbWFHXA"
      },
      "execution_count": null,
      "outputs": []
    }
  ]
}